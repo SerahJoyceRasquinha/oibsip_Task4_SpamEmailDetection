{
 "cells": [
  {
   "cell_type": "code",
   "execution_count": 5,
   "id": "2bddd6b5-6daa-48ab-bf3d-683ca09013b5",
   "metadata": {},
   "outputs": [
    {
     "name": "stdout",
     "output_type": "stream",
     "text": [
      "Accuracy: 95.92760180995475 %\n",
      "Classification Report:\n",
      "              precision    recall  f1-score   support\n",
      "\n",
      "         ham       0.95      1.00      0.98       954\n",
      "        spam       1.00      0.70      0.82       151\n",
      "\n",
      "    accuracy                           0.96      1105\n",
      "   macro avg       0.98      0.85      0.90      1105\n",
      "weighted avg       0.96      0.96      0.96      1105\n",
      "\n",
      "Percentage of Ham Emails: 86.47719044170891\n",
      "Percentage of Spam Emails: 13.522809558291094\n"
     ]
    }
   ],
   "source": [
    "import pandas as pd\n",
    "from sklearn.model_selection import train_test_split\n",
    "from sklearn.feature_extraction.text import TfidfVectorizer\n",
    "from sklearn.naive_bayes import MultinomialNB\n",
    "from sklearn.metrics import accuracy_score, classification_report\n",
    "\n",
    "# Load the dataset\n",
    "data = pd.read_csv(\"DataSet/HamOrSpam.csv\")\n",
    "\n",
    "# Preprocess the text data\n",
    "# (You may need additional preprocessing steps based on your dataset)\n",
    "data['v2'] = data['v2'].str.lower()\n",
    "\n",
    "# Split into features and labels\n",
    "X = data['v2']\n",
    "y = data['v1']\n",
    "\n",
    "# Split into training and testing sets\n",
    "X_train, X_test, y_train, y_test = train_test_split(X, y, test_size=0.2, random_state=42)\n",
    "\n",
    "# Vectorize the text data\n",
    "vectorizer = TfidfVectorizer()\n",
    "X_train_vectorized = vectorizer.fit_transform(X_train)\n",
    "X_test_vectorized = vectorizer.transform(X_test)\n",
    "\n",
    "# Train a classifier model\n",
    "classifier = MultinomialNB()\n",
    "classifier.fit(X_train_vectorized, y_train)\n",
    "\n",
    "# Evaluate the model\n",
    "y_pred = classifier.predict(X_test_vectorized)\n",
    "accuracy = accuracy_score(y_test, y_pred)\n",
    "\n",
    "print(\"Accuracy:\", accuracy*100,\"%\")\n",
    "print(\"Classification Report:\")\n",
    "print(classification_report(y_test, y_pred))\n",
    "\n",
    "# Calculate percentage of ham and spam emails\n",
    "ham_percentage = (y.value_counts()['ham'] / len(y)) * 100\n",
    "spam_percentage = (y.value_counts()['spam'] / len(y)) * 100\n",
    "\n",
    "print(\"Percentage of Ham Emails:\", ham_percentage)\n",
    "print(\"Percentage of Spam Emails:\", spam_percentage)"
   ]
  },
  {
   "cell_type": "code",
   "execution_count": null,
   "id": "b18145f0-43d6-4dc5-9bcf-05f7393d815d",
   "metadata": {},
   "outputs": [],
   "source": []
  }
 ],
 "metadata": {
  "kernelspec": {
   "display_name": "Python 3 (ipykernel)",
   "language": "python",
   "name": "python3"
  },
  "language_info": {
   "codemirror_mode": {
    "name": "ipython",
    "version": 3
   },
   "file_extension": ".py",
   "mimetype": "text/x-python",
   "name": "python",
   "nbconvert_exporter": "python",
   "pygments_lexer": "ipython3",
   "version": "3.11.7"
  }
 },
 "nbformat": 4,
 "nbformat_minor": 5
}
